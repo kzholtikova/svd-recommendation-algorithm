{
 "cells": [
  {
   "cell_type": "code",
   "id": "initial_id",
   "metadata": {
    "collapsed": true,
    "ExecuteTime": {
     "end_time": "2024-07-01T17:48:15.336584Z",
     "start_time": "2024-07-01T17:48:15.221891Z"
    }
   },
   "source": [
    "import numpy as np\n",
    "import svd"
   ],
   "outputs": [],
   "execution_count": 1
  },
  {
   "metadata": {
    "ExecuteTime": {
     "end_time": "2024-07-01T17:48:15.341869Z",
     "start_time": "2024-07-01T17:48:15.338218Z"
    }
   },
   "cell_type": "code",
   "source": [
    "A = np.array([[1, 2, 3], [2, 4, 6], [3, 6, 9]])\n",
    "U, S, V_T = svd.decompose(A)\n",
    "print(\"Is SVD correct:\", svd.verify(A, U, S, V_T))\n",
    "print(\"A:\", A)\n",
    "print(\"U*S*V_T:\", np.dot(U, np.dot(S, V_T)))"
   ],
   "id": "59b23d2677a4a3a9",
   "outputs": [
    {
     "name": "stdout",
     "output_type": "stream",
     "text": [
      "Is SVD correct: True\n",
      "A: [[1 2 3]\n",
      " [2 4 6]\n",
      " [3 6 9]]\n",
      "U*S*V_T: [[1.         2.         3.        ]\n",
      " [2.         4.00000001 6.        ]\n",
      " [2.99999999 6.00000003 8.99999998]]\n"
     ]
    }
   ],
   "execution_count": 2
  },
  {
   "metadata": {
    "ExecuteTime": {
     "end_time": "2024-07-01T17:48:15.346119Z",
     "start_time": "2024-07-01T17:48:15.342896Z"
    }
   },
   "cell_type": "code",
   "source": [
    "A = np.random.rand(2, 3)\n",
    "U, S, V_T = svd.decompose(A)\n",
    "print(\"Is SVD correct:\", svd.verify(A, U, S, V_T))\n",
    "print(\"A:\", A.shape)\n",
    "print(\"U:\", U.shape)\n",
    "print(\"S:\", S.shape)\n",
    "print(\"V_T:\", V_T.shape)"
   ],
   "id": "d5225a9d398fe508",
   "outputs": [
    {
     "name": "stdout",
     "output_type": "stream",
     "text": [
      "Is SVD correct: True\n",
      "A: (2, 3)\n",
      "U: (2, 2)\n",
      "S: (2, 3)\n",
      "V_T: (3, 3)\n",
      "U: [[-0.96449087  0.26411621]\n",
      " [-0.26411621 -0.96449087]]\n",
      "S: [[1.64860727 0.         0.        ]\n",
      " [0.         0.15615508 0.        ]]\n",
      "V_T: [[-0.62447749 -0.48729052 -0.61038989]\n",
      " [-0.71074108  0.03050476  0.70279199]\n",
      " [ 0.32384407 -0.87270695  0.36538692]]\n"
     ]
    }
   ],
   "execution_count": 3
  }
 ],
 "metadata": {
  "kernelspec": {
   "display_name": "Python 3",
   "language": "python",
   "name": "python3"
  },
  "language_info": {
   "codemirror_mode": {
    "name": "ipython",
    "version": 2
   },
   "file_extension": ".py",
   "mimetype": "text/x-python",
   "name": "python",
   "nbconvert_exporter": "python",
   "pygments_lexer": "ipython2",
   "version": "2.7.6"
  }
 },
 "nbformat": 4,
 "nbformat_minor": 5
}
