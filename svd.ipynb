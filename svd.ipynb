{
 "cells": [
  {
   "cell_type": "code",
   "id": "initial_id",
   "metadata": {
    "collapsed": true,
    "ExecuteTime": {
     "end_time": "2024-07-01T12:45:42.015254Z",
     "start_time": "2024-07-01T12:45:42.011556Z"
    }
   },
   "source": [
    "import numpy as np\n",
    "import svd"
   ],
   "outputs": [],
   "execution_count": 6
  },
  {
   "metadata": {
    "ExecuteTime": {
     "end_time": "2024-07-01T12:45:54.825348Z",
     "start_time": "2024-07-01T12:45:54.811850Z"
    }
   },
   "cell_type": "code",
   "source": [
    "A = np.array([[1, 2, 3], [2, 4, 6], [3, 6, 9]])\n",
    "U, S, V_T = svd.svd(A)\n",
    "print(\"Is SVD correct:\", svd.verify_svd(A, U, S, V_T))\n",
    "print(\"A:\", A)\n",
    "print(\"U*S*V_T:\", np.dot(U, np.dot(S, V_T)))"
   ],
   "id": "59b23d2677a4a3a9",
   "outputs": [
    {
     "name": "stdout",
     "output_type": "stream",
     "text": [
      "Is SVD correct: True\n",
      "A: [[1 2 3]\n",
      " [2 4 6]\n",
      " [3 6 9]]\n",
      "U*S*V_T: [[0.99999999 1.99999999 3.00000001]\n",
      " [1.99999999 3.99999998 6.00000002]\n",
      " [2.99999998 5.99999997 9.00000003]]\n"
     ]
    }
   ],
   "execution_count": 8
  },
  {
   "metadata": {
    "ExecuteTime": {
     "end_time": "2024-07-01T12:47:28.296107Z",
     "start_time": "2024-07-01T12:47:28.275179Z"
    }
   },
   "cell_type": "code",
   "source": [
    "A = np.random.rand(2, 3)\n",
    "U, S, V_T = svd.svd(A)\n",
    "print(\"Is SVD correct:\", svd.verify_svd(A, U, S, V_T))\n",
    "print(\"A:\", A)\n",
    "print(\"\\n U:\", U)\n",
    "print(\"\\n S:\", S)\n",
    "print(\"\\n V_T:\", V_T)"
   ],
   "id": "d5225a9d398fe508",
   "outputs": [
    {
     "name": "stdout",
     "output_type": "stream",
     "text": [
      "Is SVD correct: True\n",
      "A: [[0.40295856 0.22198322 0.32218914]\n",
      " [0.49959849 0.30783639 0.53024239]]\n",
      "\n",
      " U: [[-0.57793237 -0.81608466  0.95117696]\n",
      " [-0.81608466  0.57793237  0.30864607]]\n",
      "\n",
      " S: [[9.68227249e-01 0.00000000e+00 0.00000000e+00]\n",
      " [0.00000000e+00 5.92695024e-02 0.00000000e+00]\n",
      " [0.00000000e+00 0.00000000e+00 2.47621201e-09]]\n",
      "\n",
      " V_T: [[-0.66161891 -0.39196567 -0.63923652]\n",
      " [-0.67680952 -0.05480877  0.73411503]\n",
      " [ 0.32278366 -0.91834575  0.22902358]]\n"
     ]
    }
   ],
   "execution_count": 15
  }
 ],
 "metadata": {
  "kernelspec": {
   "display_name": "Python 3",
   "language": "python",
   "name": "python3"
  },
  "language_info": {
   "codemirror_mode": {
    "name": "ipython",
    "version": 2
   },
   "file_extension": ".py",
   "mimetype": "text/x-python",
   "name": "python",
   "nbconvert_exporter": "python",
   "pygments_lexer": "ipython2",
   "version": "2.7.6"
  }
 },
 "nbformat": 4,
 "nbformat_minor": 5
}
