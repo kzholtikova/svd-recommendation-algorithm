{
 "cells": [
  {
   "cell_type": "code",
   "id": "initial_id",
   "metadata": {
    "collapsed": true,
    "ExecuteTime": {
     "end_time": "2024-07-09T13:39:39.192438Z",
     "start_time": "2024-07-09T13:39:39.189455Z"
    }
   },
   "source": [
    "import numpy as np\n",
    "import svd"
   ],
   "outputs": [],
   "execution_count": 1
  },
  {
   "metadata": {
    "ExecuteTime": {
     "end_time": "2024-07-09T13:39:39.196450Z",
     "start_time": "2024-07-09T13:39:39.193579Z"
    }
   },
   "cell_type": "code",
   "source": [
    "A = np.array([[1, 2, 3], [2, 4, 6], [3, 6, 9]])\n",
    "U, S, V_T = svd.decompose(A)\n",
    "print(\"Is SVD correct:\", svd.verify(A, U, S, V_T))\n",
    "print(\"A:\", A)\n",
    "print(\"U*S*V_T:\", np.dot(U, np.dot(S, V_T)))"
   ],
   "id": "59b23d2677a4a3a9",
   "outputs": [
    {
     "name": "stdout",
     "output_type": "stream",
     "text": [
      "Is SVD correct: True\n",
      "A: [[1 2 3]\n",
      " [2 4 6]\n",
      " [3 6 9]]\n",
      "U*S*V_T: [[1. 2. 3.]\n",
      " [2. 4. 6.]\n",
      " [3. 6. 9.]]\n"
     ]
    }
   ],
   "execution_count": 2
  },
  {
   "metadata": {
    "ExecuteTime": {
     "end_time": "2024-07-09T13:39:39.200510Z",
     "start_time": "2024-07-09T13:39:39.197317Z"
    }
   },
   "cell_type": "code",
   "source": [
    "A = np.random.rand(3, 2)\n",
    "U, S, V_T = svd.decompose(A)\n",
    "print(\"Is SVD correct:\", svd.verify(A, U, S, V_T))\n",
    "print(\"A:\", A.shape)\n",
    "print(\"U:\", U.shape)\n",
    "print(\"S:\", S.shape)\n",
    "print(\"V_T:\", V_T.shape)\n",
    "print(\"A:\", A)\n",
    "print(\"U*S*V_T:\", np.dot(U, np.dot(S, V_T)))"
   ],
   "id": "d5225a9d398fe508",
   "outputs": [
    {
     "name": "stdout",
     "output_type": "stream",
     "text": [
      "Is SVD correct: True\n",
      "A: (3, 2)\n",
      "U: (3, 3)\n",
      "S: (3, 2)\n",
      "V_T: (2, 2)\n",
      "A: [[0.47682219 0.09153531]\n",
      " [0.28670823 0.93904919]\n",
      " [0.5924158  0.96242751]]\n",
      "U*S*V_T: [[0.47682219 0.09153531]\n",
      " [0.28670823 0.93904919]\n",
      " [0.5924158  0.96242751]]\n"
     ]
    }
   ],
   "execution_count": 3
  },
  {
   "metadata": {
    "ExecuteTime": {
     "end_time": "2024-07-09T13:39:39.204917Z",
     "start_time": "2024-07-09T13:39:39.201239Z"
    }
   },
   "cell_type": "code",
   "source": [
    "A = np.random.rand(2, 3)\n",
    "U, S, V_T = svd.decompose(A)\n",
    "print(\"Is SVD correct:\", svd.verify(A, U, S, V_T))\n",
    "print(\"A:\", A.shape)\n",
    "print(\"U:\", U.shape)\n",
    "print(\"S:\", S.shape)\n",
    "print(\"V_T:\", V_T.shape)\n",
    "print(\"V_T:\", V_T.shape)\n",
    "print(\"A:\", A)\n",
    "print(\"U*S*V_T:\", np.dot(U, np.dot(S, V_T)))"
   ],
   "id": "da4065901ea3e9e0",
   "outputs": [
    {
     "name": "stdout",
     "output_type": "stream",
     "text": [
      "Is SVD correct: True\n",
      "A: (2, 3)\n",
      "U: (2, 2)\n",
      "S: (2, 3)\n",
      "V_T: (3, 3)\n",
      "V_T: (3, 3)\n",
      "A: [[0.10691935 0.33654527 0.61385325]\n",
      " [0.72700517 0.14413002 0.21348354]]\n",
      "U*S*V_T: [[0.10691935 0.33654527 0.61385325]\n",
      " [0.72700517 0.14413002 0.21348354]]\n"
     ]
    }
   ],
   "execution_count": 4
  }
 ],
 "metadata": {
  "kernelspec": {
   "display_name": "Python 3",
   "language": "python",
   "name": "python3"
  },
  "language_info": {
   "codemirror_mode": {
    "name": "ipython",
    "version": 2
   },
   "file_extension": ".py",
   "mimetype": "text/x-python",
   "name": "python",
   "nbconvert_exporter": "python",
   "pygments_lexer": "ipython2",
   "version": "2.7.6"
  }
 },
 "nbformat": 4,
 "nbformat_minor": 5
}
